{
 "cells": [
  {
   "cell_type": "code",
   "execution_count": null,
   "metadata": {},
   "outputs": [],
   "source": [
    "from ultralytics import YOLO          # Import YOLO model class\n",
    "import torch                          # Import PyTorch library"
   ]
  },
  {
   "cell_type": "code",
   "execution_count": null,
   "metadata": {},
   "outputs": [],
   "source": [
    "model = YOLO(\"yolov8n-pose.pt\")       # Load pretrained YOLOv8 pose estimation model"
   ]
  },
  {
   "cell_type": "code",
   "execution_count": null,
   "metadata": {},
   "outputs": [],
   "source": [
    "print(torch.__version__)              # Print PyTorch version\n",
    "print(torch.cuda.is_available())      # Check if GPU (CUDA) is available\n",
    "print(torch.cuda.device_count())      # Print number of available GPUs\n",
    "print(torch.cuda.current_device())    # Print index of current GPU device\n",
    "print(torch.cuda.get_device_name(0))  # Print name of GPU device 0\n"
   ]
  },
  {
   "cell_type": "code",
   "execution_count": null,
   "metadata": {},
   "outputs": [],
   "source": [
    "torch.cuda.empty_cache()    # Clear unused GPU memory cache\n",
    "torch.cuda.ipc_collect()    # Collect garbage from CUDA IPC to free memory"
   ]
  },
  {
   "cell_type": "code",
   "execution_count": null,
   "metadata": {},
   "outputs": [],
   "source": [
    "model.train(                    # Start training the YOLO model\n",
    "    data=\"C:/Users/akash/Documents/Seminar Electromobility/wheel_contact_point_detection/dataset/dataset.yaml\",\n",
    "    epochs=100,                 # Train for 100 epochs\n",
    "    imgsz=2176,                 # Resize input images to 2176x2176 pixels\n",
    "    batch=4,                    # Use batch size of 4 samples per iteration\n",
    "    device=\"cuda\",              # Use GPU for training\n",
    "    workers=2                   # Number of CPU threads for data loading\n",
    ")\n"
   ]
  }
 ],
 "metadata": {
  "kernelspec": {
   "display_name": "venv",
   "language": "python",
   "name": "python3"
  },
  "language_info": {
   "codemirror_mode": {
    "name": "ipython",
    "version": 3
   },
   "file_extension": ".py",
   "mimetype": "text/x-python",
   "name": "python",
   "nbconvert_exporter": "python",
   "pygments_lexer": "ipython3",
   "version": "3.11.9"
  }
 },
 "nbformat": 4,
 "nbformat_minor": 2
}
